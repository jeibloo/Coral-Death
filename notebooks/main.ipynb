{
 "cells": [
  {
   "cell_type": "code",
   "execution_count": 1,
   "metadata": {},
   "outputs": [
    {
     "name": "stdout",
     "output_type": "stream",
     "text": [
      "Requirement already up-to-date: category_encoders in /home/ygeun/.local/share/virtualenvs/coral-death-Jt6ndagv/lib/python3.7/site-packages (2.0.0)\n",
      "Requirement already up-to-date: matplotlib in /home/ygeun/.local/share/virtualenvs/coral-death-Jt6ndagv/lib/python3.7/site-packages (3.1.1)\n",
      "Requirement already up-to-date: pandas_profiling in /home/ygeun/.local/share/virtualenvs/coral-death-Jt6ndagv/lib/python3.7/site-packages (2.3.0)\n",
      "Requirement already up-to-date: seaborn in /home/ygeun/.local/share/virtualenvs/coral-death-Jt6ndagv/lib/python3.7/site-packages (0.9.0)\n",
      "Requirement already up-to-date: psutil in /home/ygeun/.local/share/virtualenvs/coral-death-Jt6ndagv/lib/python3.7/site-packages (5.6.3)\n",
      "Requirement already up-to-date: xlrd in /home/ygeun/.local/share/virtualenvs/coral-death-Jt6ndagv/lib/python3.7/site-packages (1.2.0)\n",
      "Requirement already up-to-date: eli5 in /home/ygeun/.local/share/virtualenvs/coral-death-Jt6ndagv/lib/python3.7/site-packages (0.10.0)\n",
      "Requirement already up-to-date: pdp in /home/ygeun/.local/share/virtualenvs/coral-death-Jt6ndagv/lib/python3.7/site-packages (0.3.0)\n",
      "Requirement already up-to-date: pdpbox in /home/ygeun/.local/share/virtualenvs/coral-death-Jt6ndagv/lib/python3.7/site-packages (0.2.0)\n",
      "Requirement already up-to-date: shap in /home/ygeun/.local/share/virtualenvs/coral-death-Jt6ndagv/lib/python3.7/site-packages (0.29.3)\n",
      "Requirement already satisfied, skipping upgrade: numpy>=1.11.3 in /home/ygeun/.local/share/virtualenvs/coral-death-Jt6ndagv/lib/python3.7/site-packages (from category_encoders) (1.17.0)\n",
      "Requirement already satisfied, skipping upgrade: scikit-learn>=0.20.0 in /home/ygeun/.local/share/virtualenvs/coral-death-Jt6ndagv/lib/python3.7/site-packages (from category_encoders) (0.21.3)\n",
      "Requirement already satisfied, skipping upgrade: statsmodels>=0.6.1 in /home/ygeun/.local/share/virtualenvs/coral-death-Jt6ndagv/lib/python3.7/site-packages (from category_encoders) (0.10.1)\n",
      "Requirement already satisfied, skipping upgrade: scipy>=0.19.0 in /home/ygeun/.local/share/virtualenvs/coral-death-Jt6ndagv/lib/python3.7/site-packages (from category_encoders) (1.3.1)\n",
      "Requirement already satisfied, skipping upgrade: patsy>=0.4.1 in /home/ygeun/.local/share/virtualenvs/coral-death-Jt6ndagv/lib/python3.7/site-packages (from category_encoders) (0.5.1)\n",
      "Requirement already satisfied, skipping upgrade: pandas>=0.21.1 in /home/ygeun/.local/share/virtualenvs/coral-death-Jt6ndagv/lib/python3.7/site-packages (from category_encoders) (0.25.1)\n",
      "Requirement already satisfied, skipping upgrade: kiwisolver>=1.0.1 in /home/ygeun/.local/share/virtualenvs/coral-death-Jt6ndagv/lib/python3.7/site-packages (from matplotlib) (1.1.0)\n",
      "Requirement already satisfied, skipping upgrade: python-dateutil>=2.1 in /home/ygeun/.local/share/virtualenvs/coral-death-Jt6ndagv/lib/python3.7/site-packages (from matplotlib) (2.8.0)\n",
      "Requirement already satisfied, skipping upgrade: cycler>=0.10 in /home/ygeun/.local/share/virtualenvs/coral-death-Jt6ndagv/lib/python3.7/site-packages (from matplotlib) (0.10.0)\n",
      "Requirement already satisfied, skipping upgrade: pyparsing!=2.0.4,!=2.1.2,!=2.1.6,>=2.0.1 in /home/ygeun/.local/share/virtualenvs/coral-death-Jt6ndagv/lib/python3.7/site-packages (from matplotlib) (2.4.2)\n",
      "Requirement already satisfied, skipping upgrade: astropy in /home/ygeun/.local/share/virtualenvs/coral-death-Jt6ndagv/lib/python3.7/site-packages (from pandas_profiling) (3.2.1)\n",
      "Requirement already satisfied, skipping upgrade: jinja2>=2.8 in /home/ygeun/.local/share/virtualenvs/coral-death-Jt6ndagv/lib/python3.7/site-packages (from pandas_profiling) (2.10.1)\n",
      "Requirement already satisfied, skipping upgrade: htmlmin>=0.1.12 in /home/ygeun/.local/share/virtualenvs/coral-death-Jt6ndagv/lib/python3.7/site-packages (from pandas_profiling) (0.1.12)\n",
      "Requirement already satisfied, skipping upgrade: phik>=0.9.8 in /home/ygeun/.local/share/virtualenvs/coral-death-Jt6ndagv/lib/python3.7/site-packages (from pandas_profiling) (0.9.8)\n",
      "Requirement already satisfied, skipping upgrade: confuse>=1.0.0 in /home/ygeun/.local/share/virtualenvs/coral-death-Jt6ndagv/lib/python3.7/site-packages (from pandas_profiling) (1.0.0)\n",
      "Requirement already satisfied, skipping upgrade: missingno>=0.4.2 in /home/ygeun/.local/share/virtualenvs/coral-death-Jt6ndagv/lib/python3.7/site-packages (from pandas_profiling) (0.4.2)\n",
      "Requirement already satisfied, skipping upgrade: attrs>16.0.0 in /home/ygeun/.local/share/virtualenvs/coral-death-Jt6ndagv/lib/python3.7/site-packages (from eli5) (19.1.0)\n",
      "Requirement already satisfied, skipping upgrade: six in /home/ygeun/.local/share/virtualenvs/coral-death-Jt6ndagv/lib/python3.7/site-packages (from eli5) (1.12.0)\n",
      "Requirement already satisfied, skipping upgrade: graphviz in /home/ygeun/.local/share/virtualenvs/coral-death-Jt6ndagv/lib/python3.7/site-packages (from eli5) (0.12)\n",
      "Requirement already satisfied, skipping upgrade: tabulate>=0.7.7 in /home/ygeun/.local/share/virtualenvs/coral-death-Jt6ndagv/lib/python3.7/site-packages (from eli5) (0.8.3)\n",
      "Requirement already satisfied, skipping upgrade: typing in /home/ygeun/.local/share/virtualenvs/coral-death-Jt6ndagv/lib/python3.7/site-packages (from eli5) (3.7.4.1)\n",
      "Requirement already satisfied, skipping upgrade: joblib in /home/ygeun/.local/share/virtualenvs/coral-death-Jt6ndagv/lib/python3.7/site-packages (from pdpbox) (0.13.2)\n",
      "Requirement already satisfied, skipping upgrade: ipython in /home/ygeun/.local/share/virtualenvs/coral-death-Jt6ndagv/lib/python3.7/site-packages (from shap) (7.7.0)\n",
      "Requirement already satisfied, skipping upgrade: scikit-image in /home/ygeun/.local/share/virtualenvs/coral-death-Jt6ndagv/lib/python3.7/site-packages (from shap) (0.15.0)\n",
      "Requirement already satisfied, skipping upgrade: tqdm>4.25.0 in /home/ygeun/.local/share/virtualenvs/coral-death-Jt6ndagv/lib/python3.7/site-packages (from shap) (4.35.0)\n",
      "Requirement already satisfied, skipping upgrade: pytz>=2017.2 in /home/ygeun/.local/share/virtualenvs/coral-death-Jt6ndagv/lib/python3.7/site-packages (from pandas>=0.21.1->category_encoders) (2019.2)\n",
      "Requirement already satisfied, skipping upgrade: setuptools in /home/ygeun/.local/share/virtualenvs/coral-death-Jt6ndagv/lib/python3.7/site-packages (from kiwisolver>=1.0.1->matplotlib) (41.2.0)\n",
      "Requirement already satisfied, skipping upgrade: MarkupSafe>=0.23 in /home/ygeun/.local/share/virtualenvs/coral-death-Jt6ndagv/lib/python3.7/site-packages (from jinja2>=2.8->pandas_profiling) (1.1.1)\n",
      "Requirement already satisfied, skipping upgrade: numba>=0.38.1 in /home/ygeun/.local/share/virtualenvs/coral-death-Jt6ndagv/lib/python3.7/site-packages (from phik>=0.9.8->pandas_profiling) (0.45.1)\n",
      "Requirement already satisfied, skipping upgrade: jupyter-client>=5.2.3 in /home/ygeun/.local/share/virtualenvs/coral-death-Jt6ndagv/lib/python3.7/site-packages (from phik>=0.9.8->pandas_profiling) (5.3.1)\n",
      "Requirement already satisfied, skipping upgrade: pytest>=4.0.2 in /home/ygeun/.local/share/virtualenvs/coral-death-Jt6ndagv/lib/python3.7/site-packages (from phik>=0.9.8->pandas_profiling) (5.1.1)\n",
      "Requirement already satisfied, skipping upgrade: pytest-pylint>=0.13.0 in /home/ygeun/.local/share/virtualenvs/coral-death-Jt6ndagv/lib/python3.7/site-packages (from phik>=0.9.8->pandas_profiling) (0.14.1)\n",
      "Requirement already satisfied, skipping upgrade: nbconvert>=5.3.1 in /home/ygeun/.local/share/virtualenvs/coral-death-Jt6ndagv/lib/python3.7/site-packages (from phik>=0.9.8->pandas_profiling) (5.6.0)\n",
      "Requirement already satisfied, skipping upgrade: pyyaml in /home/ygeun/.local/share/virtualenvs/coral-death-Jt6ndagv/lib/python3.7/site-packages (from confuse>=1.0.0->pandas_profiling) (5.1.2)\n",
      "Requirement already satisfied, skipping upgrade: prompt-toolkit<2.1.0,>=2.0.0 in /home/ygeun/.local/share/virtualenvs/coral-death-Jt6ndagv/lib/python3.7/site-packages (from ipython->shap) (2.0.9)\n",
      "Requirement already satisfied, skipping upgrade: pickleshare in /home/ygeun/.local/share/virtualenvs/coral-death-Jt6ndagv/lib/python3.7/site-packages (from ipython->shap) (0.7.5)\n",
      "Requirement already satisfied, skipping upgrade: pexpect; sys_platform != \"win32\" in /home/ygeun/.local/share/virtualenvs/coral-death-Jt6ndagv/lib/python3.7/site-packages (from ipython->shap) (4.7.0)\n",
      "Requirement already satisfied, skipping upgrade: backcall in /home/ygeun/.local/share/virtualenvs/coral-death-Jt6ndagv/lib/python3.7/site-packages (from ipython->shap) (0.1.0)\n",
      "Requirement already satisfied, skipping upgrade: pygments in /home/ygeun/.local/share/virtualenvs/coral-death-Jt6ndagv/lib/python3.7/site-packages (from ipython->shap) (2.4.2)\n",
      "Requirement already satisfied, skipping upgrade: decorator in /home/ygeun/.local/share/virtualenvs/coral-death-Jt6ndagv/lib/python3.7/site-packages (from ipython->shap) (4.4.0)\n",
      "Requirement already satisfied, skipping upgrade: traitlets>=4.2 in /home/ygeun/.local/share/virtualenvs/coral-death-Jt6ndagv/lib/python3.7/site-packages (from ipython->shap) (4.3.2)\n",
      "Requirement already satisfied, skipping upgrade: jedi>=0.10 in /home/ygeun/.local/share/virtualenvs/coral-death-Jt6ndagv/lib/python3.7/site-packages (from ipython->shap) (0.15.1)\n"
     ]
    },
    {
     "name": "stdout",
     "output_type": "stream",
     "text": [
      "Requirement already satisfied, skipping upgrade: networkx>=2.0 in /home/ygeun/.local/share/virtualenvs/coral-death-Jt6ndagv/lib/python3.7/site-packages (from scikit-image->shap) (2.3)\n",
      "Requirement already satisfied, skipping upgrade: imageio>=2.0.1 in /home/ygeun/.local/share/virtualenvs/coral-death-Jt6ndagv/lib/python3.7/site-packages (from scikit-image->shap) (2.5.0)\n",
      "Requirement already satisfied, skipping upgrade: PyWavelets>=0.4.0 in /home/ygeun/.local/share/virtualenvs/coral-death-Jt6ndagv/lib/python3.7/site-packages (from scikit-image->shap) (1.0.3)\n",
      "Requirement already satisfied, skipping upgrade: pillow>=4.3.0 in /home/ygeun/.local/share/virtualenvs/coral-death-Jt6ndagv/lib/python3.7/site-packages (from scikit-image->shap) (6.1.0)\n",
      "Requirement already satisfied, skipping upgrade: llvmlite>=0.29.0dev0 in /home/ygeun/.local/share/virtualenvs/coral-death-Jt6ndagv/lib/python3.7/site-packages (from numba>=0.38.1->phik>=0.9.8->pandas_profiling) (0.29.0)\n",
      "Requirement already satisfied, skipping upgrade: jupyter-core in /home/ygeun/.local/share/virtualenvs/coral-death-Jt6ndagv/lib/python3.7/site-packages (from jupyter-client>=5.2.3->phik>=0.9.8->pandas_profiling) (4.5.0)\n",
      "Requirement already satisfied, skipping upgrade: tornado>=4.1 in /home/ygeun/.local/share/virtualenvs/coral-death-Jt6ndagv/lib/python3.7/site-packages (from jupyter-client>=5.2.3->phik>=0.9.8->pandas_profiling) (6.0.3)\n",
      "Requirement already satisfied, skipping upgrade: pyzmq>=13 in /home/ygeun/.local/share/virtualenvs/coral-death-Jt6ndagv/lib/python3.7/site-packages (from jupyter-client>=5.2.3->phik>=0.9.8->pandas_profiling) (18.1.0)\n",
      "Requirement already satisfied, skipping upgrade: importlib-metadata>=0.12; python_version < \"3.8\" in /home/ygeun/.local/share/virtualenvs/coral-death-Jt6ndagv/lib/python3.7/site-packages (from pytest>=4.0.2->phik>=0.9.8->pandas_profiling) (0.19)\n",
      "Requirement already satisfied, skipping upgrade: wcwidth in /home/ygeun/.local/share/virtualenvs/coral-death-Jt6ndagv/lib/python3.7/site-packages (from pytest>=4.0.2->phik>=0.9.8->pandas_profiling) (0.1.7)\n",
      "Requirement already satisfied, skipping upgrade: py>=1.5.0 in /home/ygeun/.local/share/virtualenvs/coral-death-Jt6ndagv/lib/python3.7/site-packages (from pytest>=4.0.2->phik>=0.9.8->pandas_profiling) (1.8.0)\n",
      "Requirement already satisfied, skipping upgrade: packaging in /home/ygeun/.local/share/virtualenvs/coral-death-Jt6ndagv/lib/python3.7/site-packages (from pytest>=4.0.2->phik>=0.9.8->pandas_profiling) (19.1)\n",
      "Requirement already satisfied, skipping upgrade: atomicwrites>=1.0 in /home/ygeun/.local/share/virtualenvs/coral-death-Jt6ndagv/lib/python3.7/site-packages (from pytest>=4.0.2->phik>=0.9.8->pandas_profiling) (1.3.0)\n",
      "Requirement already satisfied, skipping upgrade: pluggy<1.0,>=0.12 in /home/ygeun/.local/share/virtualenvs/coral-death-Jt6ndagv/lib/python3.7/site-packages (from pytest>=4.0.2->phik>=0.9.8->pandas_profiling) (0.12.0)\n",
      "Requirement already satisfied, skipping upgrade: more-itertools>=4.0.0 in /home/ygeun/.local/share/virtualenvs/coral-death-Jt6ndagv/lib/python3.7/site-packages (from pytest>=4.0.2->phik>=0.9.8->pandas_profiling) (7.2.0)\n",
      "Requirement already satisfied, skipping upgrade: pylint>=1.4.5 in /home/ygeun/.local/share/virtualenvs/coral-death-Jt6ndagv/lib/python3.7/site-packages (from pytest-pylint>=0.13.0->phik>=0.9.8->pandas_profiling) (2.3.1)\n",
      "Requirement already satisfied, skipping upgrade: defusedxml in /home/ygeun/.local/share/virtualenvs/coral-death-Jt6ndagv/lib/python3.7/site-packages (from nbconvert>=5.3.1->phik>=0.9.8->pandas_profiling) (0.6.0)\n",
      "Requirement already satisfied, skipping upgrade: entrypoints>=0.2.2 in /home/ygeun/.local/share/virtualenvs/coral-death-Jt6ndagv/lib/python3.7/site-packages (from nbconvert>=5.3.1->phik>=0.9.8->pandas_profiling) (0.3)\n",
      "Requirement already satisfied, skipping upgrade: bleach in /home/ygeun/.local/share/virtualenvs/coral-death-Jt6ndagv/lib/python3.7/site-packages (from nbconvert>=5.3.1->phik>=0.9.8->pandas_profiling) (3.1.0)\n",
      "Requirement already satisfied, skipping upgrade: pandocfilters>=1.4.1 in /home/ygeun/.local/share/virtualenvs/coral-death-Jt6ndagv/lib/python3.7/site-packages (from nbconvert>=5.3.1->phik>=0.9.8->pandas_profiling) (1.4.2)\n",
      "Requirement already satisfied, skipping upgrade: mistune<2,>=0.8.1 in /home/ygeun/.local/share/virtualenvs/coral-death-Jt6ndagv/lib/python3.7/site-packages (from nbconvert>=5.3.1->phik>=0.9.8->pandas_profiling) (0.8.4)\n",
      "Requirement already satisfied, skipping upgrade: testpath in /home/ygeun/.local/share/virtualenvs/coral-death-Jt6ndagv/lib/python3.7/site-packages (from nbconvert>=5.3.1->phik>=0.9.8->pandas_profiling) (0.4.2)\n",
      "Requirement already satisfied, skipping upgrade: nbformat>=4.4 in /home/ygeun/.local/share/virtualenvs/coral-death-Jt6ndagv/lib/python3.7/site-packages (from nbconvert>=5.3.1->phik>=0.9.8->pandas_profiling) (4.4.0)\n",
      "Requirement already satisfied, skipping upgrade: ptyprocess>=0.5 in /home/ygeun/.local/share/virtualenvs/coral-death-Jt6ndagv/lib/python3.7/site-packages (from pexpect; sys_platform != \"win32\"->ipython->shap) (0.6.0)\n",
      "Requirement already satisfied, skipping upgrade: ipython-genutils in /home/ygeun/.local/share/virtualenvs/coral-death-Jt6ndagv/lib/python3.7/site-packages (from traitlets>=4.2->ipython->shap) (0.2.0)\n",
      "Requirement already satisfied, skipping upgrade: parso>=0.5.0 in /home/ygeun/.local/share/virtualenvs/coral-death-Jt6ndagv/lib/python3.7/site-packages (from jedi>=0.10->ipython->shap) (0.5.1)\n",
      "Requirement already satisfied, skipping upgrade: zipp>=0.5 in /home/ygeun/.local/share/virtualenvs/coral-death-Jt6ndagv/lib/python3.7/site-packages (from importlib-metadata>=0.12; python_version < \"3.8\"->pytest>=4.0.2->phik>=0.9.8->pandas_profiling) (0.6.0)\n",
      "Requirement already satisfied, skipping upgrade: isort<5,>=4.2.5 in /home/ygeun/.local/share/virtualenvs/coral-death-Jt6ndagv/lib/python3.7/site-packages (from pylint>=1.4.5->pytest-pylint>=0.13.0->phik>=0.9.8->pandas_profiling) (4.3.21)\n",
      "Requirement already satisfied, skipping upgrade: astroid<3,>=2.2.0 in /home/ygeun/.local/share/virtualenvs/coral-death-Jt6ndagv/lib/python3.7/site-packages (from pylint>=1.4.5->pytest-pylint>=0.13.0->phik>=0.9.8->pandas_profiling) (2.2.5)\n",
      "Requirement already satisfied, skipping upgrade: mccabe<0.7,>=0.6 in /home/ygeun/.local/share/virtualenvs/coral-death-Jt6ndagv/lib/python3.7/site-packages (from pylint>=1.4.5->pytest-pylint>=0.13.0->phik>=0.9.8->pandas_profiling) (0.6.1)\n",
      "Requirement already satisfied, skipping upgrade: webencodings in /home/ygeun/.local/share/virtualenvs/coral-death-Jt6ndagv/lib/python3.7/site-packages (from bleach->nbconvert>=5.3.1->phik>=0.9.8->pandas_profiling) (0.5.1)\n",
      "Requirement already satisfied, skipping upgrade: jsonschema!=2.5.0,>=2.4 in /home/ygeun/.local/share/virtualenvs/coral-death-Jt6ndagv/lib/python3.7/site-packages (from nbformat>=4.4->nbconvert>=5.3.1->phik>=0.9.8->pandas_profiling) (3.0.2)\n",
      "Requirement already satisfied, skipping upgrade: wrapt in /home/ygeun/.local/share/virtualenvs/coral-death-Jt6ndagv/lib/python3.7/site-packages (from astroid<3,>=2.2.0->pylint>=1.4.5->pytest-pylint>=0.13.0->phik>=0.9.8->pandas_profiling) (1.11.2)\n",
      "Requirement already satisfied, skipping upgrade: typed-ast>=1.3.0; implementation_name == \"cpython\" in /home/ygeun/.local/share/virtualenvs/coral-death-Jt6ndagv/lib/python3.7/site-packages (from astroid<3,>=2.2.0->pylint>=1.4.5->pytest-pylint>=0.13.0->phik>=0.9.8->pandas_profiling) (1.4.0)\n",
      "Requirement already satisfied, skipping upgrade: lazy-object-proxy in /home/ygeun/.local/share/virtualenvs/coral-death-Jt6ndagv/lib/python3.7/site-packages (from astroid<3,>=2.2.0->pylint>=1.4.5->pytest-pylint>=0.13.0->phik>=0.9.8->pandas_profiling) (1.4.2)\n",
      "Requirement already satisfied, skipping upgrade: pyrsistent>=0.14.0 in /home/ygeun/.local/share/virtualenvs/coral-death-Jt6ndagv/lib/python3.7/site-packages (from jsonschema!=2.5.0,>=2.4->nbformat>=4.4->nbconvert>=5.3.1->phik>=0.9.8->pandas_profiling) (0.15.4)\n"
     ]
    }
   ],
   "source": [
    "!pip install --upgrade category_encoders matplotlib pandas_profiling seaborn psutil xlrd eli5 pdp pdpbox shap\n",
    "import sys, getpass, pandas_profiling\n",
    "a = getpass.getuser()\n",
    "### examples appending of folder\n",
    "# A\n",
    "sys.path.append('/home/{}/Code/Github-Repos/BFDS_Library/'.format(a))\n",
    "# B\n",
    "#sys.path.append('/Users/{}/Programs/BFDS_Library/'.format(a))\n",
    "\n",
    "# Pull in library if in Google Colab\n",
    "if 'google.colab' in sys.modules:\n",
    "    os.chdir('/content')\n",
    "    !git init .\n",
    "    !git remote add origin https://github.com/jeibloo/BFDS_Library.git\n",
    "    !git pull origin master\n",
    "\n",
    "#from BFDS_Library import ACompass, BWarp, CToolbox \n",
    "import AMap as am\n",
    "import BCook as bc\n",
    "import CTools as ct"
   ]
  },
  {
   "cell_type": "markdown",
   "metadata": {},
   "source": [
    "Cool dataset from [Reefbase](http://www.reefbase.org/gis_maps/useofmaps.aspx)."
   ]
  },
  {
   "cell_type": "code",
   "execution_count": 2,
   "metadata": {},
   "outputs": [],
   "source": [
    "import pandas as pd\n",
    "pd.options.display.float_format = None\n",
    "df = pd.read_excel('./dataset/CoralBleaching.xlsm')"
   ]
  },
  {
   "cell_type": "code",
   "execution_count": 3,
   "metadata": {},
   "outputs": [],
   "source": [
    "target = 'BLEACHING_SEVERITY'"
   ]
  },
  {
   "cell_type": "code",
   "execution_count": 4,
   "metadata": {},
   "outputs": [],
   "source": [
    "def wgle(df):\n",
    "    # Group by bleaching or not\n",
    "    df[target] = df[target].replace({\n",
    "        'Low':2, 'HIGH':4, 'Medium':3, 'Severity Unknown':1,\n",
    "        'No Bleaching':0})\n",
    "\n",
    "    # Get all features for ease-of-use\n",
    "    features, num_feats, cat_feats = bc.pantryFeatures(df)\n",
    "    \n",
    "    # Drop columns with almost no values.\n",
    "    df = bc.diceUglyCols(df, features, percent=50)\n",
    "    \n",
    "    # Reduce cardinality of a few columns\n",
    "    df['LOCATION'].replace({'No Name':'other'},inplace=True)\n",
    "    df = bc.simmerCardinality(df, 'LOCATION', amt=400)\n",
    "    df = bc.simmerCardinality(df, 'SOURCE', amt=400)\n",
    "    \n",
    "    # Drop severity code cause that's obviously a leakage\n",
    "    df = df.drop(['SEVERITY_CODE','ID'],axis=1)\n",
    "    \n",
    "    # Special weird values\n",
    "    df['LAT'] = df['LAT'].replace({-10269:-10.269})\n",
    "    \n",
    "    return df"
   ]
  },
  {
   "cell_type": "code",
   "execution_count": 5,
   "metadata": {},
   "outputs": [],
   "source": [
    "#df.profile_report()"
   ]
  },
  {
   "cell_type": "code",
   "execution_count": 6,
   "metadata": {},
   "outputs": [
    {
     "name": "stdout",
     "output_type": "stream",
     "text": [
      "Mem. usage decreased to  0.34 Mb (35.2% reduction)\n"
     ]
    }
   ],
   "source": [
    "dfw = wgle(df)\n",
    "dfw = ct.downcastDataFrame(dfw)"
   ]
  },
  {
   "cell_type": "code",
   "execution_count": 7,
   "metadata": {},
   "outputs": [
    {
     "data": {
      "text/plain": [
       "\"### Visualizations\\nimport seaborn as sns\\nimport matplotlib.pyplot as plt\\n\\nfig, (ax1,ax2) = plt.subplots(ncols=2,figsize=(20,10))\\nax1.title.set_text('Latitude\\nNorth\\n^\\n|\\nv\\nSouth')\\nax2.title.set_text('Longitude\\nWest <-> East')\\nsns.distplot(dfw['LAT'], ax=ax1, color='y',vertical=True)\\nsns.distplot(dfw['LON'], ax=ax2, color='b',vertical=False)\""
      ]
     },
     "execution_count": 7,
     "metadata": {},
     "output_type": "execute_result"
    }
   ],
   "source": [
    "'''### Visualizations\n",
    "import seaborn as sns\n",
    "import matplotlib.pyplot as plt\n",
    "\n",
    "fig, (ax1,ax2) = plt.subplots(ncols=2,figsize=(20,10))\n",
    "ax1.title.set_text('Latitude\\nNorth\\n^\\n|\\nv\\nSouth')\n",
    "ax2.title.set_text('Longitude\\nWest <-> East')\n",
    "sns.distplot(dfw['LAT'], ax=ax1, color='y',vertical=True)\n",
    "sns.distplot(dfw['LON'], ax=ax2, color='b',vertical=False)'''"
   ]
  },
  {
   "cell_type": "code",
   "execution_count": 8,
   "metadata": {},
   "outputs": [
    {
     "data": {
      "text/plain": [
       "REGION                   6\n",
       "SUBREGION               17\n",
       "COUNTRY                112\n",
       "LOCATION               400\n",
       "LAT                   1881\n",
       "LON                    942\n",
       "MONTH                   12\n",
       "YEAR                    39\n",
       "BLEACHING_SEVERITY       5\n",
       "SOURCE                 401\n",
       "COUNTRY_CODE           112\n",
       "dtype: int64"
      ]
     },
     "execution_count": 8,
     "metadata": {},
     "output_type": "execute_result"
    }
   ],
   "source": [
    "dfw.nunique()"
   ]
  },
  {
   "cell_type": "code",
   "execution_count": 9,
   "metadata": {},
   "outputs": [
    {
     "data": {
      "text/plain": [
       "other                                                                 3581\n",
       "U/N Reef                                                               188\n",
       "nan                                                                    123\n",
       "Paso Lagrimas, Pez Maya, Reserva de la Biosfera de Sian Ka'an           90\n",
       "San Miguel de Ruiz, Pez Maya, Reserva de la Biosfera de Sian Ka'an      72\n",
       "                                                                      ... \n",
       "Waitabu village, Taveuni                                                 2\n",
       "Petricola Shoal                                                          2\n",
       "Myrmidon Rf                                                              2\n",
       "Dingo Bch, Nelly Bay                                                     2\n",
       "La Caleta                                                                2\n",
       "Length: 400, dtype: int64"
      ]
     },
     "execution_count": 9,
     "metadata": {},
     "output_type": "execute_result"
    }
   ],
   "source": [
    "pd.value_counts(dfw['LOCATION'].values,sort=True)"
   ]
  },
  {
   "cell_type": "code",
   "execution_count": 10,
   "metadata": {},
   "outputs": [],
   "source": [
    "import numpy as np\n",
    "### Export wrangled dataframe\n",
    "dfw.sort_values(by=\"YEAR\",inplace=True)\n",
    "### Group into decades\n",
    "df_chunked = dfw.copy()\n",
    "'''\n",
    "df_chunked = df_chunked.mask(\n",
    "    (df_chunked['YEAR'] <= 1969, '60s'),\n",
    "    (((df_chunked['YEAR'] <= 1979) & (df_chunked['YEAR'] >= 1970)),'70s'),\n",
    "    (((df_chunked['YEAR'] <= 1989) & (df_chunked['YEAR'] >= 1980)),'80s'),\n",
    "    (((df_chunked['YEAR'] <= 1999) & (df_chunked['YEAR'] >= 1990)),'90s'),\n",
    "    (((df_chunked['YEAR'] <= 2012) & (df_chunked['YEAR'] >= 2000)),'00s')\n",
    ")\n",
    "'''\n",
    "df_chunked['YEAR'] = np.where(df_chunked['YEAR'].between(1960,1969),60,df_chunked['YEAR'])\n",
    "df_chunked['YEAR'] = np.where(df_chunked['YEAR'].between(1970,1979),70,df_chunked['YEAR'])\n",
    "df_chunked['YEAR'] = np.where(df_chunked['YEAR'].between(1980,1989),80,df_chunked['YEAR'])\n",
    "df_chunked['YEAR'] = np.where(df_chunked['YEAR'].between(1990,1999),90,df_chunked['YEAR'])\n",
    "df_chunked['YEAR'] = np.where(df_chunked['YEAR'].between(2000,2012),2000,df_chunked['YEAR'])\n",
    "df_chunked['YEAR'] = df_chunked['YEAR'].replace({60:'1960s',70:'1970s',80:'1980s',\n",
    "                                                 90:'1990s',2000:'2000s'})\n",
    "df_chunked.head()\n",
    "df_chunked.to_csv('./CoralBleachingClean.csv')"
   ]
  },
  {
   "cell_type": "code",
   "execution_count": 11,
   "metadata": {},
   "outputs": [
    {
     "name": "stdout",
     "output_type": "stream",
     "text": [
      "Cut down 17 columns.\n"
     ]
    }
   ],
   "source": [
    "print(\"Cut down {} columns.\".format(df.shape[1]-dfw.shape[1]))"
   ]
  },
  {
   "cell_type": "code",
   "execution_count": 12,
   "metadata": {},
   "outputs": [
    {
     "name": "stderr",
     "output_type": "stream",
     "text": [
      "/home/ygeun/.local/share/virtualenvs/coral-death-Jt6ndagv/lib/python3.7/site-packages/ipykernel_launcher.py:8: UserWarning: Boolean Series key will be reindexed to match DataFrame index.\n",
      "  \n"
     ]
    }
   ],
   "source": [
    "# Split into Train Test & Val by year\n",
    "test_mask = (dfw['YEAR'] > 2005)\n",
    "vali_mask = ((dfw['YEAR'] > 2003) & (df['YEAR'] <= 2005))\n",
    "trin_mask = (dfw['YEAR'] <= 2003)\n",
    "# Use masks\n",
    "test = dfw[test_mask].copy()\n",
    "trin = dfw[trin_mask].copy()\n",
    "vali = dfw[vali_mask].copy()"
   ]
  },
  {
   "cell_type": "code",
   "execution_count": 13,
   "metadata": {},
   "outputs": [
    {
     "name": "stdout",
     "output_type": "stream",
     "text": [
      "ASSURANCE CHECK\n",
      "Test shape:(1058, 11)\n",
      "Train shape:(4167, 11)\n",
      "Validation shape:(965, 11)\n"
     ]
    }
   ],
   "source": [
    "print(\"ASSURANCE CHECK\\nTest shape:{}\\nTrain shape:{}\\nValidation shape:{}\".format(\n",
    "    test.shape,trin.shape,vali.shape)\n",
    ")"
   ]
  },
  {
   "cell_type": "code",
   "execution_count": 14,
   "metadata": {},
   "outputs": [
    {
     "name": "stdout",
     "output_type": "stream",
     "text": [
      "Classification\n",
      "0    0.244060\n",
      "4    0.232541\n",
      "2    0.230622\n",
      "1    0.150468\n",
      "3    0.142309\n",
      "Name: BLEACHING_SEVERITY, dtype: float64\n",
      "Classification\n",
      "2    0.339896\n",
      "3    0.227979\n",
      "1    0.220725\n",
      "0    0.121244\n",
      "4    0.090155\n",
      "Name: BLEACHING_SEVERITY, dtype: float64\n",
      "Classification\n",
      "1    0.341210\n",
      "0    0.324197\n",
      "2    0.132325\n",
      "4    0.109641\n",
      "3    0.092628\n",
      "Name: BLEACHING_SEVERITY, dtype: float64\n",
      "None None None\n"
     ]
    }
   ],
   "source": [
    "print(bc.soupBaseModel(trin, target, 1),\n",
    "      bc.soupBaseModel(vali, target, 1),\n",
    "      bc.soupBaseModel(test, target, 1))"
   ]
  },
  {
   "cell_type": "code",
   "execution_count": 15,
   "metadata": {},
   "outputs": [
    {
     "name": "stdout",
     "output_type": "stream",
     "text": [
      "ASSURANCE CHECK\n",
      "Train cols:\t11\n",
      "Validtn cols:\t11\n",
      "Test cols:\t11\n"
     ]
    }
   ],
   "source": [
    "### Chop the sets up\n",
    "features, _, _ = bc.pantryFeatures(trin)\n",
    "X_train = trin[features].drop(target,axis=1)\n",
    "y_train = trin[target]\n",
    "\n",
    "X_test = test[features].drop(target,axis=1)\n",
    "y_test = test[target]\n",
    "\n",
    "X_vali = vali[features].drop(target,axis=1)\n",
    "y_vali = vali[target]\n",
    "\n",
    "print(\"ASSURANCE CHECK\\nTrain cols:\\t{}\\nValidtn cols:\\t{}\\nTest cols:\\t{}\".format(\n",
    "    len(X_train.columns)+1,\n",
    "    len(X_test.columns)+1,\n",
    "    len(X_vali.columns)+1)\n",
    ")"
   ]
  },
  {
   "cell_type": "code",
   "execution_count": 16,
   "metadata": {},
   "outputs": [
    {
     "name": "stdout",
     "output_type": "stream",
     "text": [
      "Classification\n",
      "0    0.238611\n",
      "2    0.230856\n",
      "1    0.194023\n",
      "4    0.189338\n",
      "3    0.147173\n",
      "Name: BLEACHING_SEVERITY, dtype: float64\n"
     ]
    }
   ],
   "source": [
    "# Majority Class Baseline\n",
    "bc.soupBaseModel(df, target, 1)"
   ]
  },
  {
   "cell_type": "code",
   "execution_count": 17,
   "metadata": {},
   "outputs": [
    {
     "data": {
      "text/plain": [
       "0    1477\n",
       "2    1429\n",
       "1    1201\n",
       "4    1172\n",
       "3     911\n",
       "Name: BLEACHING_SEVERITY, dtype: int64"
      ]
     },
     "execution_count": 17,
     "metadata": {},
     "output_type": "execute_result"
    }
   ],
   "source": [
    "df[target].value_counts()"
   ]
  },
  {
   "cell_type": "code",
   "execution_count": 18,
   "metadata": {},
   "outputs": [],
   "source": [
    "### Start fitting this classification model\n",
    "import category_encoders as ce\n",
    "from sklearn.ensemble import RandomForestClassifier\n",
    "from sklearn.impute import SimpleImputer\n",
    "from sklearn.pipeline import make_pipeline"
   ]
  },
  {
   "cell_type": "code",
   "execution_count": 19,
   "metadata": {},
   "outputs": [],
   "source": [
    "pipey = make_pipeline(\n",
    "    ce.OrdinalEncoder(),\n",
    "    SimpleImputer(strategy='mean'),\n",
    "    RandomForestClassifier(\n",
    "        n_estimators=200,\n",
    "        class_weight='balanced',\n",
    "        n_jobs=-1,\n",
    "        random_state=4\n",
    "    )\n",
    ")"
   ]
  },
  {
   "cell_type": "code",
   "execution_count": 20,
   "metadata": {},
   "outputs": [],
   "source": [
    "from sklearn.metrics import accuracy_score\n",
    "# Train the model on these two beauts\n",
    "pipey.fit(X_train, y_train);"
   ]
  },
  {
   "cell_type": "code",
   "execution_count": 21,
   "metadata": {},
   "outputs": [
    {
     "data": {
      "text/plain": [
       "['pipey.joblib']"
      ]
     },
     "execution_count": 21,
     "metadata": {},
     "output_type": "execute_result"
    }
   ],
   "source": [
    "# Preserve the exact pipeline with the exact fit\n",
    "from joblib import dump\n",
    "dump(pipey, 'pipey.joblib')"
   ]
  },
  {
   "cell_type": "code",
   "execution_count": 22,
   "metadata": {},
   "outputs": [
    {
     "data": {
      "text/plain": [
       "((4167, 10), (4167,), (965, 10), (965,))"
      ]
     },
     "execution_count": 22,
     "metadata": {},
     "output_type": "execute_result"
    }
   ],
   "source": [
    "X_train.shape, y_train.shape, X_vali.shape,y_vali.shape"
   ]
  },
  {
   "cell_type": "code",
   "execution_count": 23,
   "metadata": {},
   "outputs": [
    {
     "name": "stdout",
     "output_type": "stream",
     "text": [
      "Val Set score: 0.45699481865284974\n"
     ]
    }
   ],
   "source": [
    "# Print out what y_val prediction was\n",
    "#print(\"Val Set AUC ROC: {}\".format(roc_auc_score(y_vali,y_pred_proba)))\n",
    "print(\"Val Set score: {}\".format(pipey.score(X_vali,y_vali)))"
   ]
  },
  {
   "cell_type": "code",
   "execution_count": 24,
   "metadata": {},
   "outputs": [
    {
     "data": {
      "text/plain": [
       "array([0.23627685, 0.50717703, 0.46650718, 0.50119904, 0.39328537,\n",
       "       0.48441247, 0.49160671, 0.44096386, 0.48674699, 0.51932367])"
      ]
     },
     "execution_count": 24,
     "metadata": {},
     "output_type": "execute_result"
    }
   ],
   "source": [
    "# Test cross-validation\n",
    "from sklearn.model_selection import cross_val_score\n",
    "cross_val_score(pipey, X_train, y_train, cv=10, scoring='accuracy')"
   ]
  },
  {
   "cell_type": "markdown",
   "metadata": {},
   "source": [
    "What in the ... lol 0.61~...a little better than guessing."
   ]
  },
  {
   "cell_type": "code",
   "execution_count": 25,
   "metadata": {},
   "outputs": [],
   "source": [
    "X_combo = pd.concat([X_train, X_vali])\n",
    "y_combo = pd.concat([y_train, y_vali])\n",
    "# Train the pipeline on the combo\n",
    "pipey.fit(X_combo, y_combo);\n",
    "y_pred = pipey.predict(X_test)"
   ]
  },
  {
   "cell_type": "code",
   "execution_count": 26,
   "metadata": {},
   "outputs": [
    {
     "name": "stdout",
     "output_type": "stream",
     "text": [
      "Test Set score: 0.387523629489603\n"
     ]
    }
   ],
   "source": [
    "print(\"Test Set score: {}\".format(accuracy_score(y_pred,y_test)))"
   ]
  },
  {
   "cell_type": "code",
   "execution_count": 27,
   "metadata": {},
   "outputs": [
    {
     "data": {
      "text/plain": [
       "(array([ 182,  220,  382,  428,  429,  443,  446,  461,  465,  486,  488,\n",
       "         489,  496,  503,  508,  646,  723,  726,  739,  750,  755,  757,\n",
       "         760,  767,  768,  777,  786,  790,  791,  805,  810,  819,  824,\n",
       "         830,  852,  889,  922,  956, 1006]),)"
      ]
     },
     "execution_count": 27,
     "metadata": {},
     "output_type": "execute_result"
    }
   ],
   "source": [
    "np.where(y_pred == 4)"
   ]
  },
  {
   "cell_type": "code",
   "execution_count": 28,
   "metadata": {},
   "outputs": [
    {
     "data": {
      "text/plain": [
       "array(['Americas', 'Asia', 'Australia', 'Pacific', 'Africa',\n",
       "       'Middle East', nan], dtype=object)"
      ]
     },
     "execution_count": 28,
     "metadata": {},
     "output_type": "execute_result"
    }
   ],
   "source": [
    "X_combo.REGION.unique()"
   ]
  },
  {
   "cell_type": "code",
   "execution_count": 29,
   "metadata": {},
   "outputs": [],
   "source": [
    "'''from pdpbox.pdp import pdp_plot, pdp_isolate\n",
    "from pdpbox import pdp\n",
    "\n",
    "encoder = pipey.named_steps['ordinalencoder']\n",
    "imputer = pipey.named_steps['simpleimputer']\n",
    "model = pipey.named_steps['randomforestclassifier']\n",
    "\n",
    "X_encoded = encoder.transform(X_combo)\n",
    "X_imputed = imputer.transform(X_encoded)\n",
    "X_imputed = pd.DataFrame(X_imputed, columns=X_combo.columns)\n",
    "\n",
    "features, _, _ = bc.pantryFeatures(X_imputed)\n",
    "feature = 'COUNTRY_CODE'\n",
    "\n",
    "pdp_dist = pdp.pdp_isolate(\n",
    "    model=pipey,\n",
    "    dataset=X_encoded,\n",
    "    model_features=features,\n",
    "    feature=feature,\n",
    "    num_grid_points=100\n",
    ")\n",
    "plot_params = {\n",
    "    # Plot title etc\n",
    "    'title': 'PDP for feature {}'.format(feature.lower()),\n",
    "    'subtitle': \"In 5 groups for some reason\",\n",
    "    'markersize': 5,\n",
    "    'fill_color': '#af4f4f'\n",
    "}\n",
    "fig, axes = pdp_plot(pdp_dist,plot_params=plot_params, feature_name=feature,\n",
    "         plot_lines=True, frac_to_plot=50)\n",
    "''';"
   ]
  },
  {
   "cell_type": "code",
   "execution_count": 30,
   "metadata": {},
   "outputs": [],
   "source": [
    "'''import shap\n",
    "rowNum = 134\n",
    "row = X_combo.iloc[rowNum]\n",
    "row_processed = X_imputed.iloc[rowNum]\n",
    "\n",
    "explainer = shap.TreeExplainer(model)\n",
    "shap_values = explainer.shap_values(row_processed)\n",
    "\n",
    "shap.initjs()\n",
    "shap.force_plot(\n",
    "    base_value=explainer.expected_value[0],\n",
    "    shap_values=shap_values[0],\n",
    "    features=row\n",
    ")''';"
   ]
  }
 ],
 "metadata": {
  "kernelspec": {
   "display_name": "Python 3",
   "language": "python",
   "name": "python3"
  },
  "language_info": {
   "codemirror_mode": {
    "name": "ipython",
    "version": 3
   },
   "file_extension": ".py",
   "mimetype": "text/x-python",
   "name": "python",
   "nbconvert_exporter": "python",
   "pygments_lexer": "ipython3",
   "version": "3.7.4"
  }
 },
 "nbformat": 4,
 "nbformat_minor": 2
}
